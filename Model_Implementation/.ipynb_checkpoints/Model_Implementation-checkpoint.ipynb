{
 "cells": [
  {
   "cell_type": "code",
   "execution_count": 294,
   "id": "developmental-southwest",
   "metadata": {},
   "outputs": [],
   "source": [
    "import numpy\n",
    "import pandas\n",
    "import matplotlib.pyplot as pyplot\n",
    "import seaborn\n",
    "import nltk\n",
    "from nltk.corpus import stopwords\n",
    "from nltk.stem import WordNetLemmatizer\n",
    "import re\n",
    "from sklearn.metrics import confusion_matrix,classification_report\n",
    "from sklearn.feature_extraction.text import TfidfVectorizer\n",
    "from sklearn.svm import LinearSVC\n",
    "from sklearn.naive_bayes import MultinomialNB\n",
    "from sklearn.linear_model import LogisticRegression\n",
    "from sklearn.ensemble import RandomForestClassifier\n",
    "import tensorflow\n",
    "import keras\n",
    "from joblib import dump\n",
    "import pickle"
   ]
  },
  {
   "cell_type": "code",
   "execution_count": 300,
   "id": "whole-camel",
   "metadata": {},
   "outputs": [],
   "source": [
    "word_lemitizer=WordNetLemmatizer()\n",
    "Regular_expression_definition_for_html_tags=re.compile('<.*?>')\n",
    "Regular_expression_definition_for_digits=re.compile('\\d+\\s|\\s\\d+|\\s\\d+\\s')\n",
    "english_stop_words=stopwords.words('english')\n",
    "def preprocessing_of_sentence(text):\n",
    "    word_to_be_handled=[\n",
    "    \"not\",\n",
    "    \"no\",\n",
    "    \"very\"\n",
    "    ]\n",
    "    text=Regular_expression_definition_for_html_tags.sub(r\" \",text)\n",
    "    text=Regular_expression_definition_for_digits.sub(r\" \",text)\n",
    "    punctuations = [\".\",\",\",\"!\",\"?\",\"'\",'\"',\":\",\";\",\"*\",\"-\",\"/\",\"+\",\"%\",\"$\",\"#\",\"@\",\"(\",\")\",\"[\",\"]\",\"{\",\"}\"]\n",
    "    for i in punctuations:\n",
    "        text = text.replace(i,\" \")\n",
    "    text=text.lower().split()\n",
    "    text=[word for word in text if word not in english_stop_words and len(word)>1 or word in word_to_be_handled]\n",
    "    text=[word_lemitizer.lemmatize(word) for word in text]\n",
    "    return text"
   ]
  },
  {
   "cell_type": "code",
   "execution_count": 96,
   "id": "prime-newcastle",
   "metadata": {},
   "outputs": [],
   "source": [
    "class_column='Liked'\n",
    "review_column='Review'"
   ]
  },
  {
   "cell_type": "code",
   "execution_count": 97,
   "id": "pleasant-chase",
   "metadata": {},
   "outputs": [],
   "source": [
    "class_list=[\"Bad\",\"Good\"]"
   ]
  },
  {
   "cell_type": "code",
   "execution_count": 98,
   "id": "aggressive-queens",
   "metadata": {},
   "outputs": [],
   "source": [
    "filename=\"Restaurant_Reviews.tsv\""
   ]
  },
  {
   "cell_type": "code",
   "execution_count": 99,
   "id": "surprised-appreciation",
   "metadata": {},
   "outputs": [],
   "source": [
    "Total_Data=pandas.read_csv('../Data/Processed_Data/'+filename)"
   ]
  },
  {
   "cell_type": "code",
   "execution_count": 100,
   "id": "congressional-satin",
   "metadata": {},
   "outputs": [
    {
     "data": {
      "text/html": [
       "<div>\n",
       "<style scoped>\n",
       "    .dataframe tbody tr th:only-of-type {\n",
       "        vertical-align: middle;\n",
       "    }\n",
       "\n",
       "    .dataframe tbody tr th {\n",
       "        vertical-align: top;\n",
       "    }\n",
       "\n",
       "    .dataframe thead th {\n",
       "        text-align: right;\n",
       "    }\n",
       "</style>\n",
       "<table border=\"1\" class=\"dataframe\">\n",
       "  <thead>\n",
       "    <tr style=\"text-align: right;\">\n",
       "      <th></th>\n",
       "      <th>Review</th>\n",
       "      <th>Liked</th>\n",
       "    </tr>\n",
       "  </thead>\n",
       "  <tbody>\n",
       "    <tr>\n",
       "      <th>0</th>\n",
       "      <td>wow loved place</td>\n",
       "      <td>1</td>\n",
       "    </tr>\n",
       "    <tr>\n",
       "      <th>1</th>\n",
       "      <td>crust good</td>\n",
       "      <td>0</td>\n",
       "    </tr>\n",
       "    <tr>\n",
       "      <th>2</th>\n",
       "      <td>tasty texture nasty</td>\n",
       "      <td>0</td>\n",
       "    </tr>\n",
       "    <tr>\n",
       "      <th>3</th>\n",
       "      <td>stopped late may bank holiday rick steve recom...</td>\n",
       "      <td>1</td>\n",
       "    </tr>\n",
       "    <tr>\n",
       "      <th>4</th>\n",
       "      <td>selection menu great price</td>\n",
       "      <td>1</td>\n",
       "    </tr>\n",
       "    <tr>\n",
       "      <th>...</th>\n",
       "      <td>...</td>\n",
       "      <td>...</td>\n",
       "    </tr>\n",
       "    <tr>\n",
       "      <th>995</th>\n",
       "      <td>think food flavor texture lacking</td>\n",
       "      <td>0</td>\n",
       "    </tr>\n",
       "    <tr>\n",
       "      <th>996</th>\n",
       "      <td>appetite instantly gone</td>\n",
       "      <td>0</td>\n",
       "    </tr>\n",
       "    <tr>\n",
       "      <th>997</th>\n",
       "      <td>overall impressed would go back</td>\n",
       "      <td>0</td>\n",
       "    </tr>\n",
       "    <tr>\n",
       "      <th>998</th>\n",
       "      <td>whole experience underwhelming think go ninja ...</td>\n",
       "      <td>0</td>\n",
       "    </tr>\n",
       "    <tr>\n",
       "      <th>999</th>\n",
       "      <td>wasted enough life poured salt wound drawing t...</td>\n",
       "      <td>0</td>\n",
       "    </tr>\n",
       "  </tbody>\n",
       "</table>\n",
       "<p>1000 rows × 2 columns</p>\n",
       "</div>"
      ],
      "text/plain": [
       "                                                Review  Liked\n",
       "0                                      wow loved place      1\n",
       "1                                           crust good      0\n",
       "2                                  tasty texture nasty      0\n",
       "3    stopped late may bank holiday rick steve recom...      1\n",
       "4                           selection menu great price      1\n",
       "..                                                 ...    ...\n",
       "995                  think food flavor texture lacking      0\n",
       "996                            appetite instantly gone      0\n",
       "997                    overall impressed would go back      0\n",
       "998  whole experience underwhelming think go ninja ...      0\n",
       "999  wasted enough life poured salt wound drawing t...      0\n",
       "\n",
       "[1000 rows x 2 columns]"
      ]
     },
     "execution_count": 100,
     "metadata": {},
     "output_type": "execute_result"
    }
   ],
   "source": [
    "Total_Data"
   ]
  },
  {
   "cell_type": "markdown",
   "id": "underlying-cedar",
   "metadata": {},
   "source": [
    "## Shuffelling and Spliting in features and labels"
   ]
  },
  {
   "cell_type": "code",
   "execution_count": 104,
   "id": "adverse-tackle",
   "metadata": {},
   "outputs": [],
   "source": [
    "Total_Data=Total_Data.sample(frac=1)"
   ]
  },
  {
   "cell_type": "code",
   "execution_count": 105,
   "id": "confirmed-eight",
   "metadata": {},
   "outputs": [],
   "source": [
    "total_Features=Total_Data[review_column]\n",
    "total_Labels=Total_Data[class_column]"
   ]
  },
  {
   "cell_type": "markdown",
   "id": "crucial-longer",
   "metadata": {},
   "source": [
    "# Vecorization"
   ]
  },
  {
   "cell_type": "code",
   "execution_count": 107,
   "id": "formed-tutorial",
   "metadata": {},
   "outputs": [],
   "source": [
    "Vectorizer=TfidfVectorizer()"
   ]
  },
  {
   "cell_type": "code",
   "execution_count": 108,
   "id": "decreased-belarus",
   "metadata": {},
   "outputs": [],
   "source": [
    "def vectorize_the_input(data):\n",
    "    return Vectorizer.transform(data)"
   ]
  },
  {
   "cell_type": "code",
   "execution_count": 109,
   "id": "occupied-horizontal",
   "metadata": {},
   "outputs": [],
   "source": [
    "Total_Vector_Data=Vectorizer.fit_transform(total_Features.values.astype('U'))"
   ]
  },
  {
   "cell_type": "code",
   "execution_count": 295,
   "id": "appropriate-excitement",
   "metadata": {},
   "outputs": [],
   "source": [
    "# with open(\"../Models/Tockenizer.pickle\",\"wb\") as f:\n",
    "#     pickle.dump(Vectorizer,f)"
   ]
  },
  {
   "cell_type": "code",
   "execution_count": 194,
   "id": "revised-nursing",
   "metadata": {},
   "outputs": [],
   "source": [
    "Training_Vector_Data=Total_Vector_Data[:800]\n",
    "Testing_Vector_Data=Total_Vector_Data[800:]"
   ]
  },
  {
   "cell_type": "code",
   "execution_count": 195,
   "id": "understanding-egypt",
   "metadata": {},
   "outputs": [],
   "source": [
    "training_Labels=Total_Data[class_column][:800]\n",
    "testing_Labels=Total_Data[class_column][800:]"
   ]
  },
  {
   "cell_type": "markdown",
   "id": "noted-thomas",
   "metadata": {},
   "source": [
    "## Input Preparation"
   ]
  },
  {
   "cell_type": "code",
   "execution_count": 301,
   "id": "excellent-discipline",
   "metadata": {},
   "outputs": [],
   "source": [
    "input_=\"i have found the good restaurent\"\n",
    "input_=preprocessing_of_sentence(input_)\n",
    "input_=vectorize_the_input([\" \".join(input_)])"
   ]
  },
  {
   "cell_type": "code",
   "execution_count": 299,
   "id": "geographic-break",
   "metadata": {},
   "outputs": [],
   "source": [
    "def getSentimentFromNeuranNetwork(value):\n",
    "    if value>0.6:\n",
    "        return \"Good\"\n",
    "    elif value<0.3:\n",
    "        return \"Bad\"\n",
    "    else:\n",
    "        return \"Neutral\""
   ]
  },
  {
   "cell_type": "markdown",
   "id": "imperial-monitoring",
   "metadata": {},
   "source": [
    "## Statastical Models"
   ]
  },
  {
   "cell_type": "markdown",
   "id": "metric-gasoline",
   "metadata": {},
   "source": [
    "### 1. SVM"
   ]
  },
  {
   "cell_type": "code",
   "execution_count": 259,
   "id": "exciting-binary",
   "metadata": {},
   "outputs": [],
   "source": [
    "svmModel=LinearSVC()"
   ]
  },
  {
   "cell_type": "code",
   "execution_count": 260,
   "id": "sublime-norman",
   "metadata": {},
   "outputs": [
    {
     "data": {
      "text/plain": [
       "LinearSVC()"
      ]
     },
     "execution_count": 260,
     "metadata": {},
     "output_type": "execute_result"
    }
   ],
   "source": [
    "svmModel.fit(Training_Vector_Data,training_Labels)"
   ]
  },
  {
   "cell_type": "code",
   "execution_count": 261,
   "id": "static-prefix",
   "metadata": {},
   "outputs": [],
   "source": [
    "svm_Prediction=svmModel.predict(Testing_Vector_Data)"
   ]
  },
  {
   "cell_type": "code",
   "execution_count": 263,
   "id": "annual-tuesday",
   "metadata": {},
   "outputs": [
    {
     "name": "stdout",
     "output_type": "stream",
     "text": [
      "              precision    recall  f1-score   support\n",
      "\n",
      "           0       0.79      0.78      0.79       104\n",
      "           1       0.77      0.78      0.77        96\n",
      "\n",
      "    accuracy                           0.78       200\n",
      "   macro avg       0.78      0.78      0.78       200\n",
      "weighted avg       0.78      0.78      0.78       200\n",
      "\n"
     ]
    },
    {
     "data": {
      "image/png": "[encoded data removed]",
      "text/plain": [
       "<Figure size 432x288 with 2 Axes>"
      ]
     },
     "metadata": {
      "needs_background": "light"
     },
     "output_type": "display_data"
    }
   ],
   "source": [
    "seaborn.heatmap(confusion_matrix(testing_Labels,svm_Prediction),annot=True,xticklabels=class_list,yticklabels=class_list)\n",
    "print(classification_report(testing_Labels,svm_Prediction))"
   ]
  },
  {
   "cell_type": "code",
   "execution_count": 264,
   "id": "thirty-classics",
   "metadata": {},
   "outputs": [
    {
     "data": {
      "text/plain": [
       "'Good'"
      ]
     },
     "execution_count": 264,
     "metadata": {},
     "output_type": "execute_result"
    }
   ],
   "source": [
    "class_list[svmModel.predict(input_)[0]]"
   ]
  },
  {
   "cell_type": "code",
   "execution_count": 302,
   "id": "nervous-field",
   "metadata": {},
   "outputs": [],
   "source": [
    "# dump(svmModel, '../Models/svmModel.joblib')"
   ]
  },
  {
   "cell_type": "markdown",
   "id": "smaller-dimension",
   "metadata": {},
   "source": [
    "### 2. Logistic Regression"
   ]
  },
  {
   "cell_type": "code",
   "execution_count": 266,
   "id": "published-chinese",
   "metadata": {},
   "outputs": [],
   "source": [
    "logisticModel=LogisticRegression(max_iter=25000)"
   ]
  },
  {
   "cell_type": "code",
   "execution_count": 267,
   "id": "operating-satin",
   "metadata": {},
   "outputs": [
    {
     "data": {
      "text/plain": [
       "LogisticRegression(max_iter=25000)"
      ]
     },
     "execution_count": 267,
     "metadata": {},
     "output_type": "execute_result"
    }
   ],
   "source": [
    "logisticModel.fit(Training_Vector_Data,training_Labels)"
   ]
  },
  {
   "cell_type": "code",
   "execution_count": 268,
   "id": "apparent-theology",
   "metadata": {},
   "outputs": [],
   "source": [
    "logistic_Prediction=logisticModel.predict(Testing_Vector_Data)"
   ]
  },
  {
   "cell_type": "code",
   "execution_count": 269,
   "id": "collect-sacramento",
   "metadata": {},
   "outputs": [
    {
     "name": "stdout",
     "output_type": "stream",
     "text": [
      "              precision    recall  f1-score   support\n",
      "\n",
      "           0       0.80      0.85      0.82       104\n",
      "           1       0.82      0.77      0.80        96\n",
      "\n",
      "    accuracy                           0.81       200\n",
      "   macro avg       0.81      0.81      0.81       200\n",
      "weighted avg       0.81      0.81      0.81       200\n",
      "\n"
     ]
    },
    {
     "data": {
      "image/png": "[encoded data removed]",
      "text/plain": [
       "<Figure size 432x288 with 2 Axes>"
      ]
     },
     "metadata": {
      "needs_background": "light"
     },
     "output_type": "display_data"
    }
   ],
   "source": [
    "seaborn.heatmap(confusion_matrix(testing_Labels,logistic_Prediction),annot=True,xticklabels=class_list,yticklabels=class_list)\n",
    "print(classification_report(testing_Labels,logistic_Prediction))"
   ]
  },
  {
   "cell_type": "code",
   "execution_count": 270,
   "id": "spanish-shirt",
   "metadata": {},
   "outputs": [
    {
     "data": {
      "text/plain": [
       "'Good'"
      ]
     },
     "execution_count": 270,
     "metadata": {},
     "output_type": "execute_result"
    }
   ],
   "source": [
    "class_list[logisticModel.predict(input_)[0]]"
   ]
  },
  {
   "cell_type": "code",
   "execution_count": 303,
   "id": "manufactured-encounter",
   "metadata": {},
   "outputs": [],
   "source": [
    "# dump(logisticModel, '../Models/logisticModel.joblib')"
   ]
  },
  {
   "cell_type": "markdown",
   "id": "clean-sandwich",
   "metadata": {},
   "source": [
    "### 3. MultinomialNB (naive_bayes)"
   ]
  },
  {
   "cell_type": "code",
   "execution_count": 272,
   "id": "proud-cigarette",
   "metadata": {},
   "outputs": [],
   "source": [
    "naive_bayesModel=MultinomialNB()"
   ]
  },
  {
   "cell_type": "code",
   "execution_count": 273,
   "id": "elder-central",
   "metadata": {},
   "outputs": [
    {
     "data": {
      "text/plain": [
       "MultinomialNB()"
      ]
     },
     "execution_count": 273,
     "metadata": {},
     "output_type": "execute_result"
    }
   ],
   "source": [
    "naive_bayesModel.fit(Training_Vector_Data,training_Labels)"
   ]
  },
  {
   "cell_type": "code",
   "execution_count": 274,
   "id": "little-power",
   "metadata": {},
   "outputs": [],
   "source": [
    "naive_bayesPrediction=naive_bayesModel.predict(Testing_Vector_Data)"
   ]
  },
  {
   "cell_type": "code",
   "execution_count": 275,
   "id": "looking-diagram",
   "metadata": {},
   "outputs": [
    {
     "name": "stdout",
     "output_type": "stream",
     "text": [
      "              precision    recall  f1-score   support\n",
      "\n",
      "           0       0.82      0.77      0.80       104\n",
      "           1       0.77      0.82      0.79        96\n",
      "\n",
      "    accuracy                           0.80       200\n",
      "   macro avg       0.80      0.80      0.79       200\n",
      "weighted avg       0.80      0.80      0.80       200\n",
      "\n"
     ]
    },
    {
     "data": {
      "image/png": "[encoded data removed]",
      "text/plain": [
       "<Figure size 432x288 with 2 Axes>"
      ]
     },
     "metadata": {
      "needs_background": "light"
     },
     "output_type": "display_data"
    }
   ],
   "source": [
    "seaborn.heatmap(confusion_matrix(testing_Labels,naive_bayesPrediction),annot=True,xticklabels=class_list,yticklabels=class_list)\n",
    "print(classification_report(testing_Labels,naive_bayesPrediction))"
   ]
  },
  {
   "cell_type": "code",
   "execution_count": 276,
   "id": "freelance-michael",
   "metadata": {},
   "outputs": [
    {
     "data": {
      "text/plain": [
       "'Good'"
      ]
     },
     "execution_count": 276,
     "metadata": {},
     "output_type": "execute_result"
    }
   ],
   "source": [
    "class_list[naive_bayesModel.predict(input_)[0]]"
   ]
  },
  {
   "cell_type": "code",
   "execution_count": 304,
   "id": "central-organization",
   "metadata": {},
   "outputs": [],
   "source": [
    "# dump(naive_bayesModel, '../Models/naive_bayesModel.joblib')"
   ]
  },
  {
   "cell_type": "markdown",
   "id": "disturbed-candidate",
   "metadata": {},
   "source": [
    "### 3. RandomForestClassifier"
   ]
  },
  {
   "cell_type": "code",
   "execution_count": 278,
   "id": "acoustic-memorabilia",
   "metadata": {},
   "outputs": [],
   "source": [
    "randomForestClassifierModel=RandomForestClassifier(max_depth=100)"
   ]
  },
  {
   "cell_type": "code",
   "execution_count": 279,
   "id": "involved-liberia",
   "metadata": {},
   "outputs": [
    {
     "data": {
      "text/plain": [
       "RandomForestClassifier(max_depth=100)"
      ]
     },
     "execution_count": 279,
     "metadata": {},
     "output_type": "execute_result"
    }
   ],
   "source": [
    "randomForestClassifierModel.fit(Training_Vector_Data,training_Labels)"
   ]
  },
  {
   "cell_type": "code",
   "execution_count": 280,
   "id": "charged-holmes",
   "metadata": {},
   "outputs": [],
   "source": [
    "randomForestClassifierPrediction=randomForestClassifierModel.predict(Testing_Vector_Data)"
   ]
  },
  {
   "cell_type": "code",
   "execution_count": 281,
   "id": "spanish-kingdom",
   "metadata": {},
   "outputs": [
    {
     "name": "stdout",
     "output_type": "stream",
     "text": [
      "              precision    recall  f1-score   support\n",
      "\n",
      "           0       0.74      0.90      0.81       104\n",
      "           1       0.86      0.66      0.75        96\n",
      "\n",
      "    accuracy                           0.79       200\n",
      "   macro avg       0.80      0.78      0.78       200\n",
      "weighted avg       0.80      0.79      0.78       200\n",
      "\n"
     ]
    },
    {
     "data": {
      "image/png": "[encoded data removed]",
      "text/plain": [
       "<Figure size 432x288 with 2 Axes>"
      ]
     },
     "metadata": {
      "needs_background": "light"
     },
     "output_type": "display_data"
    }
   ],
   "source": [
    "seaborn.heatmap(confusion_matrix(testing_Labels,randomForestClassifierPrediction),annot=True)\n",
    "print(classification_report(testing_Labels,randomForestClassifierPrediction))"
   ]
  },
  {
   "cell_type": "code",
   "execution_count": 282,
   "id": "advanced-loading",
   "metadata": {},
   "outputs": [
    {
     "data": {
      "text/plain": [
       "'Good'"
      ]
     },
     "execution_count": 282,
     "metadata": {},
     "output_type": "execute_result"
    }
   ],
   "source": [
    "class_list[randomForestClassifierModel.predict(input_)[0]]"
   ]
  },
  {
   "cell_type": "code",
   "execution_count": 305,
   "id": "partial-leader",
   "metadata": {},
   "outputs": [],
   "source": [
    "# dump(randomForestClassifierModel, '../Models/randomForestClassifierModel.joblib')"
   ]
  },
  {
   "cell_type": "markdown",
   "id": "answering-discovery",
   "metadata": {},
   "source": [
    "## DEEP LEARNING APPROACH"
   ]
  },
  {
   "cell_type": "code",
   "execution_count": 284,
   "id": "elder-unknown",
   "metadata": {},
   "outputs": [],
   "source": [
    "NeuralNetworkModel1=keras.models.Sequential([\n",
    "         keras.layers.Dense(units=32, activation='relu',input_dim=Training_Vector_Data.shape[1]),\n",
    "         keras.layers.Dense(units=1, activation='sigmoid')\n",
    "    ]\n",
    " )"
   ]
  },
  {
   "cell_type": "code",
   "execution_count": 285,
   "id": "separate-wheel",
   "metadata": {},
   "outputs": [
    {
     "name": "stdout",
     "output_type": "stream",
     "text": [
      "Model: \"sequential_14\"\n",
      "_________________________________________________________________\n",
      "Layer (type)                 Output Shape              Param #   \n",
      "=================================================================\n",
      "dense_39 (Dense)             (None, 32)                56608     \n",
      "_________________________________________________________________\n",
      "dense_40 (Dense)             (None, 1)                 33        \n",
      "=================================================================\n",
      "Total params: 56,641\n",
      "Trainable params: 56,641\n",
      "Non-trainable params: 0\n",
      "_________________________________________________________________\n"
     ]
    }
   ],
   "source": [
    "NeuralNetworkModel1.summary()"
   ]
  },
  {
   "cell_type": "code",
   "execution_count": 286,
   "id": "prerequisite-motion",
   "metadata": {},
   "outputs": [],
   "source": [
    "NeuralNetworkModel1.compile(optimizer='RMSprop',loss='binary_crossentropy',metrics=['accuracy'])"
   ]
  },
  {
   "cell_type": "code",
   "execution_count": 287,
   "id": "negative-overview",
   "metadata": {},
   "outputs": [
    {
     "name": "stdout",
     "output_type": "stream",
     "text": [
      "Epoch 1/25\n",
      "16/16 [==============================] - 0s 11ms/step - loss: 0.6898 - accuracy: 0.5825 - val_loss: 0.6840 - val_accuracy: 0.7100\n",
      "Epoch 2/25\n",
      "16/16 [==============================] - 0s 4ms/step - loss: 0.6739 - accuracy: 0.8125 - val_loss: 0.6741 - val_accuracy: 0.7550\n",
      "Epoch 3/25\n",
      "16/16 [==============================] - 0s 4ms/step - loss: 0.6560 - accuracy: 0.8788 - val_loss: 0.6621 - val_accuracy: 0.7550\n",
      "Epoch 4/25\n",
      "16/16 [==============================] - 0s 3ms/step - loss: 0.6344 - accuracy: 0.9087 - val_loss: 0.6484 - val_accuracy: 0.7650\n",
      "Epoch 5/25\n",
      "16/16 [==============================] - 0s 3ms/step - loss: 0.6097 - accuracy: 0.9237 - val_loss: 0.6323 - val_accuracy: 0.7800\n",
      "Epoch 6/25\n",
      "16/16 [==============================] - 0s 4ms/step - loss: 0.5822 - accuracy: 0.9312 - val_loss: 0.6150 - val_accuracy: 0.7900\n",
      "Epoch 7/25\n",
      "16/16 [==============================] - 0s 4ms/step - loss: 0.5535 - accuracy: 0.9312 - val_loss: 0.5980 - val_accuracy: 0.7850\n",
      "Epoch 8/25\n",
      "16/16 [==============================] - 0s 3ms/step - loss: 0.5241 - accuracy: 0.9300 - val_loss: 0.5825 - val_accuracy: 0.7950\n",
      "Epoch 9/25\n",
      "16/16 [==============================] - 0s 4ms/step - loss: 0.4948 - accuracy: 0.9425 - val_loss: 0.5661 - val_accuracy: 0.7900\n",
      "Epoch 10/25\n",
      "16/16 [==============================] - 0s 3ms/step - loss: 0.4661 - accuracy: 0.9375 - val_loss: 0.5519 - val_accuracy: 0.7850\n",
      "Epoch 11/25\n",
      "16/16 [==============================] - 0s 4ms/step - loss: 0.4378 - accuracy: 0.9438 - val_loss: 0.5372 - val_accuracy: 0.7950\n",
      "Epoch 12/25\n",
      "16/16 [==============================] - 0s 3ms/step - loss: 0.4100 - accuracy: 0.9475 - val_loss: 0.5234 - val_accuracy: 0.7950\n",
      "Epoch 13/25\n",
      "16/16 [==============================] - 0s 4ms/step - loss: 0.3831 - accuracy: 0.9488 - val_loss: 0.5108 - val_accuracy: 0.7900\n",
      "Epoch 14/25\n",
      "16/16 [==============================] - 0s 4ms/step - loss: 0.3573 - accuracy: 0.9525 - val_loss: 0.4988 - val_accuracy: 0.7950\n",
      "Epoch 15/25\n",
      "16/16 [==============================] - 0s 4ms/step - loss: 0.3328 - accuracy: 0.9588 - val_loss: 0.4883 - val_accuracy: 0.7950\n",
      "Epoch 16/25\n",
      "16/16 [==============================] - 0s 3ms/step - loss: 0.3096 - accuracy: 0.9588 - val_loss: 0.4782 - val_accuracy: 0.8000\n",
      "Epoch 17/25\n",
      "16/16 [==============================] - 0s 3ms/step - loss: 0.2881 - accuracy: 0.9588 - val_loss: 0.4690 - val_accuracy: 0.8000\n",
      "Epoch 18/25\n",
      "16/16 [==============================] - 0s 4ms/step - loss: 0.2679 - accuracy: 0.9575 - val_loss: 0.4649 - val_accuracy: 0.7950\n",
      "Epoch 19/25\n",
      "16/16 [==============================] - 0s 3ms/step - loss: 0.2492 - accuracy: 0.9650 - val_loss: 0.4577 - val_accuracy: 0.8000\n",
      "Epoch 20/25\n",
      "16/16 [==============================] - 0s 3ms/step - loss: 0.2318 - accuracy: 0.9625 - val_loss: 0.4526 - val_accuracy: 0.8000\n",
      "Epoch 21/25\n",
      "16/16 [==============================] - 0s 3ms/step - loss: 0.2154 - accuracy: 0.9663 - val_loss: 0.4480 - val_accuracy: 0.7950\n",
      "Epoch 22/25\n",
      "16/16 [==============================] - 0s 3ms/step - loss: 0.2006 - accuracy: 0.9712 - val_loss: 0.4444 - val_accuracy: 0.7950\n",
      "Epoch 23/25\n",
      "16/16 [==============================] - 0s 3ms/step - loss: 0.1865 - accuracy: 0.9750 - val_loss: 0.4430 - val_accuracy: 0.7900\n",
      "Epoch 24/25\n",
      "16/16 [==============================] - 0s 4ms/step - loss: 0.1735 - accuracy: 0.9750 - val_loss: 0.4417 - val_accuracy: 0.7900\n",
      "Epoch 25/25\n",
      "16/16 [==============================] - 0s 4ms/step - loss: 0.1616 - accuracy: 0.9775 - val_loss: 0.4412 - val_accuracy: 0.7900\n"
     ]
    },
    {
     "data": {
      "text/plain": [
       "<keras.callbacks.History at 0x245b632ce50>"
      ]
     },
     "execution_count": 287,
     "metadata": {},
     "output_type": "execute_result"
    }
   ],
   "source": [
    "NeuralNetworkModel1.fit(Training_Vector_Data.toarray(),training_Labels.to_numpy(),epochs=25,batch_size=50,verbose=1,validation_data=(Testing_Vector_Data.toarray(),testing_Labels.to_numpy()))"
   ]
  },
  {
   "cell_type": "code",
   "execution_count": 293,
   "id": "protected-defense",
   "metadata": {},
   "outputs": [
    {
     "data": {
      "text/plain": [
       "'Good'"
      ]
     },
     "execution_count": 293,
     "metadata": {},
     "output_type": "execute_result"
    }
   ],
   "source": [
    "getSentimentFromNeuranNetwork(NeuralNetworkModel1.predict(input_.toarray())[0][0])"
   ]
  },
  {
   "cell_type": "code",
   "execution_count": 289,
   "id": "spare-extraction",
   "metadata": {},
   "outputs": [],
   "source": [
    "# NeuralNetworkModel1.save('../Models/NeuralNetworkModel1.h5')"
   ]
  }
 ],
 "metadata": {
  "kernelspec": {
   "display_name": "Python 3",
   "language": "python",
   "name": "python3"
  },
  "language_info": {
   "codemirror_mode": {
    "name": "ipython",
    "version": 3
   },
   "file_extension": ".py",
   "mimetype": "text/x-python",
   "name": "python",
   "nbconvert_exporter": "python",
   "pygments_lexer": "ipython3",
   "version": "3.9.2"
  }
 },
 "nbformat": 4,
 "nbformat_minor": 5
}
